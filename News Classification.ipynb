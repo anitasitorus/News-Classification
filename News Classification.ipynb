{
  "nbformat": 4,
  "nbformat_minor": 0,
  "metadata": {
    "colab": {
      "name": "SUB1_Anita .ipynb",
      "provenance": [],
      "collapsed_sections": []
    },
    "kernelspec": {
      "name": "python3",
      "display_name": "Python 3"
    }
  },
  "cells": [
    {
      "cell_type": "code",
      "metadata": {
        "id": "1jIE1AdMYnb4"
      },
      "source": [
        "#Google Colab Library\n",
        "from google.colab import drive"
      ],
      "execution_count": 1,
      "outputs": []
    },
    {
      "cell_type": "code",
      "metadata": {
        "id": "O_TIEprmwuJN",
        "outputId": "3c262e9b-8b1c-4e4e-96ca-c98426ef229b",
        "colab": {
          "base_uri": "https://localhost:8080/",
          "height": 34
        }
      },
      "source": [
        "drive.mount('/content/drive')"
      ],
      "execution_count": 2,
      "outputs": [
        {
          "output_type": "stream",
          "text": [
            "Mounted at /content/drive\n"
          ],
          "name": "stdout"
        }
      ]
    },
    {
      "cell_type": "code",
      "metadata": {
        "id": "auJeerZmxAFY"
      },
      "source": [
        "import os\n",
        "os.environ['KAGGLE_CONFIG_DIR'] = \"/content/drive/My Drive/Kaggle\""
      ],
      "execution_count": 3,
      "outputs": []
    },
    {
      "cell_type": "code",
      "metadata": {
        "id": "U2KGh-1zxcJ3",
        "outputId": "8651159e-fa8a-448e-9cf8-f788210e4546",
        "colab": {
          "base_uri": "https://localhost:8080/",
          "height": 34
        }
      },
      "source": [
        "%cd /content/drive/My Drive/Kaggle"
      ],
      "execution_count": 4,
      "outputs": [
        {
          "output_type": "stream",
          "text": [
            "/content/drive/My Drive/Kaggle\n"
          ],
          "name": "stdout"
        }
      ]
    },
    {
      "cell_type": "code",
      "metadata": {
        "id": "rmOfBNeYZxjo",
        "outputId": "d0080805-b1be-4362-8e86-11de81f66284",
        "colab": {
          "base_uri": "https://localhost:8080/",
          "height": 34
        }
      },
      "source": [
        "!kaggle datasets download -d amananandrai/ag-news-classification-dataset"
      ],
      "execution_count": 5,
      "outputs": [
        {
          "output_type": "stream",
          "text": [
            "ag-news-classification-dataset.zip: Skipping, found more recently modified local copy (use --force to force download)\n"
          ],
          "name": "stdout"
        }
      ]
    },
    {
      "cell_type": "code",
      "metadata": {
        "id": "iGe9d0UXZ2Xv"
      },
      "source": [
        "import pandas as pd\n",
        "df = pd.read_csv('/content/drive/My Drive/Kaggle/AG News.csv',encoding = \"ISO-8859-1\")"
      ],
      "execution_count": 6,
      "outputs": []
    },
    {
      "cell_type": "code",
      "metadata": {
        "id": "Zc7vdF87bIb2",
        "outputId": "7efd872b-6bba-4db0-813b-c03a0535d9c5",
        "colab": {
          "base_uri": "https://localhost:8080/",
          "height": 197
        }
      },
      "source": [
        "df.head()"
      ],
      "execution_count": 7,
      "outputs": [
        {
          "output_type": "execute_result",
          "data": {
            "text/html": [
              "<div>\n",
              "<style scoped>\n",
              "    .dataframe tbody tr th:only-of-type {\n",
              "        vertical-align: middle;\n",
              "    }\n",
              "\n",
              "    .dataframe tbody tr th {\n",
              "        vertical-align: top;\n",
              "    }\n",
              "\n",
              "    .dataframe thead th {\n",
              "        text-align: right;\n",
              "    }\n",
              "</style>\n",
              "<table border=\"1\" class=\"dataframe\">\n",
              "  <thead>\n",
              "    <tr style=\"text-align: right;\">\n",
              "      <th></th>\n",
              "      <th>Class Index</th>\n",
              "      <th>Title</th>\n",
              "      <th>Description</th>\n",
              "    </tr>\n",
              "  </thead>\n",
              "  <tbody>\n",
              "    <tr>\n",
              "      <th>0</th>\n",
              "      <td>3</td>\n",
              "      <td>Fears for T N pension after talks</td>\n",
              "      <td>Unions representing workers at Turner   Newall...</td>\n",
              "    </tr>\n",
              "    <tr>\n",
              "      <th>1</th>\n",
              "      <td>4</td>\n",
              "      <td>The Race is On: Second Private Team Sets Launc...</td>\n",
              "      <td>SPACE.com - TORONTO, Canada -- A second\\team o...</td>\n",
              "    </tr>\n",
              "    <tr>\n",
              "      <th>2</th>\n",
              "      <td>4</td>\n",
              "      <td>Ky. Company Wins Grant to Study Peptides (AP)</td>\n",
              "      <td>AP - A company founded by a chemistry research...</td>\n",
              "    </tr>\n",
              "    <tr>\n",
              "      <th>3</th>\n",
              "      <td>4</td>\n",
              "      <td>Prediction Unit Helps Forecast Wildfires (AP)</td>\n",
              "      <td>AP - It's barely dawn when Mike Fitzpatrick st...</td>\n",
              "    </tr>\n",
              "    <tr>\n",
              "      <th>4</th>\n",
              "      <td>4</td>\n",
              "      <td>Calif. Aims to Limit Farm-Related Smog (AP)</td>\n",
              "      <td>AP - Southern California's smog-fighting agenc...</td>\n",
              "    </tr>\n",
              "  </tbody>\n",
              "</table>\n",
              "</div>"
            ],
            "text/plain": [
              "   Class Index  ...                                        Description\n",
              "0            3  ...  Unions representing workers at Turner   Newall...\n",
              "1            4  ...  SPACE.com - TORONTO, Canada -- A second\\team o...\n",
              "2            4  ...  AP - A company founded by a chemistry research...\n",
              "3            4  ...  AP - It's barely dawn when Mike Fitzpatrick st...\n",
              "4            4  ...  AP - Southern California's smog-fighting agenc...\n",
              "\n",
              "[5 rows x 3 columns]"
            ]
          },
          "metadata": {
            "tags": []
          },
          "execution_count": 7
        }
      ]
    },
    {
      "cell_type": "code",
      "metadata": {
        "id": "A3XS35L7bfUn"
      },
      "source": [
        "df = df.drop(columns='Title')\n",
        "df = df.drop_duplicates(subset = [\"Description\"])\n",
        "\n"
      ],
      "execution_count": 8,
      "outputs": []
    },
    {
      "cell_type": "code",
      "metadata": {
        "id": "lULf0pyK4FGc",
        "outputId": "847339cd-92c1-453a-cef2-32473d578489",
        "colab": {
          "base_uri": "https://localhost:8080/",
          "height": 406
        }
      },
      "source": [
        "category = pd.get_dummies(df['Class Index'])\n",
        "df = pd.concat([df , category], axis=1)\n",
        "df = df.drop(columns='Class Index')\n",
        "df"
      ],
      "execution_count": 9,
      "outputs": [
        {
          "output_type": "execute_result",
          "data": {
            "text/html": [
              "<div>\n",
              "<style scoped>\n",
              "    .dataframe tbody tr th:only-of-type {\n",
              "        vertical-align: middle;\n",
              "    }\n",
              "\n",
              "    .dataframe tbody tr th {\n",
              "        vertical-align: top;\n",
              "    }\n",
              "\n",
              "    .dataframe thead th {\n",
              "        text-align: right;\n",
              "    }\n",
              "</style>\n",
              "<table border=\"1\" class=\"dataframe\">\n",
              "  <thead>\n",
              "    <tr style=\"text-align: right;\">\n",
              "      <th></th>\n",
              "      <th>Description</th>\n",
              "      <th>1</th>\n",
              "      <th>2</th>\n",
              "      <th>3</th>\n",
              "      <th>4</th>\n",
              "    </tr>\n",
              "  </thead>\n",
              "  <tbody>\n",
              "    <tr>\n",
              "      <th>0</th>\n",
              "      <td>Unions representing workers at Turner   Newall...</td>\n",
              "      <td>0</td>\n",
              "      <td>0</td>\n",
              "      <td>1</td>\n",
              "      <td>0</td>\n",
              "    </tr>\n",
              "    <tr>\n",
              "      <th>1</th>\n",
              "      <td>SPACE.com - TORONTO, Canada -- A second\\team o...</td>\n",
              "      <td>0</td>\n",
              "      <td>0</td>\n",
              "      <td>0</td>\n",
              "      <td>1</td>\n",
              "    </tr>\n",
              "    <tr>\n",
              "      <th>2</th>\n",
              "      <td>AP - A company founded by a chemistry research...</td>\n",
              "      <td>0</td>\n",
              "      <td>0</td>\n",
              "      <td>0</td>\n",
              "      <td>1</td>\n",
              "    </tr>\n",
              "    <tr>\n",
              "      <th>3</th>\n",
              "      <td>AP - It's barely dawn when Mike Fitzpatrick st...</td>\n",
              "      <td>0</td>\n",
              "      <td>0</td>\n",
              "      <td>0</td>\n",
              "      <td>1</td>\n",
              "    </tr>\n",
              "    <tr>\n",
              "      <th>4</th>\n",
              "      <td>AP - Southern California's smog-fighting agenc...</td>\n",
              "      <td>0</td>\n",
              "      <td>0</td>\n",
              "      <td>0</td>\n",
              "      <td>1</td>\n",
              "    </tr>\n",
              "    <tr>\n",
              "      <th>...</th>\n",
              "      <td>...</td>\n",
              "      <td>...</td>\n",
              "      <td>...</td>\n",
              "      <td>...</td>\n",
              "      <td>...</td>\n",
              "    </tr>\n",
              "    <tr>\n",
              "      <th>7595</th>\n",
              "      <td>Ukrainian presidential candidate Viktor Yushch...</td>\n",
              "      <td>1</td>\n",
              "      <td>0</td>\n",
              "      <td>0</td>\n",
              "      <td>0</td>\n",
              "    </tr>\n",
              "    <tr>\n",
              "      <th>7596</th>\n",
              "      <td>With the supply of attractive pitching options...</td>\n",
              "      <td>0</td>\n",
              "      <td>1</td>\n",
              "      <td>0</td>\n",
              "      <td>0</td>\n",
              "    </tr>\n",
              "    <tr>\n",
              "      <th>7597</th>\n",
              "      <td>Like Roger Clemens did almost exactly eight ye...</td>\n",
              "      <td>0</td>\n",
              "      <td>1</td>\n",
              "      <td>0</td>\n",
              "      <td>0</td>\n",
              "    </tr>\n",
              "    <tr>\n",
              "      <th>7598</th>\n",
              "      <td>SINGAPORE : Doctors in the United States have ...</td>\n",
              "      <td>0</td>\n",
              "      <td>0</td>\n",
              "      <td>1</td>\n",
              "      <td>0</td>\n",
              "    </tr>\n",
              "    <tr>\n",
              "      <th>7599</th>\n",
              "      <td>EBay plans to buy the apartment and home renta...</td>\n",
              "      <td>0</td>\n",
              "      <td>0</td>\n",
              "      <td>1</td>\n",
              "      <td>0</td>\n",
              "    </tr>\n",
              "  </tbody>\n",
              "</table>\n",
              "<p>7594 rows × 5 columns</p>\n",
              "</div>"
            ],
            "text/plain": [
              "                                            Description  1  2  3  4\n",
              "0     Unions representing workers at Turner   Newall...  0  0  1  0\n",
              "1     SPACE.com - TORONTO, Canada -- A second\\team o...  0  0  0  1\n",
              "2     AP - A company founded by a chemistry research...  0  0  0  1\n",
              "3     AP - It's barely dawn when Mike Fitzpatrick st...  0  0  0  1\n",
              "4     AP - Southern California's smog-fighting agenc...  0  0  0  1\n",
              "...                                                 ... .. .. .. ..\n",
              "7595  Ukrainian presidential candidate Viktor Yushch...  1  0  0  0\n",
              "7596  With the supply of attractive pitching options...  0  1  0  0\n",
              "7597  Like Roger Clemens did almost exactly eight ye...  0  1  0  0\n",
              "7598  SINGAPORE : Doctors in the United States have ...  0  0  1  0\n",
              "7599  EBay plans to buy the apartment and home renta...  0  0  1  0\n",
              "\n",
              "[7594 rows x 5 columns]"
            ]
          },
          "metadata": {
            "tags": []
          },
          "execution_count": 9
        }
      ]
    },
    {
      "cell_type": "code",
      "metadata": {
        "id": "ap5cEDgbMnoe"
      },
      "source": [
        "#Lower Casing\n",
        "df['Description'] = df['Description'].str.lower()"
      ],
      "execution_count": 10,
      "outputs": []
    },
    {
      "cell_type": "code",
      "metadata": {
        "id": "Hjft-U8-S7uI"
      },
      "source": [
        "#Punctuation Removal\n",
        "df['Description'] = df['Description'].str.replace('[^\\w\\s]','')"
      ],
      "execution_count": 11,
      "outputs": []
    },
    {
      "cell_type": "code",
      "metadata": {
        "id": "89kFNT4Ab2KG"
      },
      "source": [
        "desc = df['Description'].values\n",
        "label = df[[1, 2,3, 4]].values"
      ],
      "execution_count": 12,
      "outputs": []
    },
    {
      "cell_type": "code",
      "metadata": {
        "id": "DDiYCKJacQrA"
      },
      "source": [
        "from sklearn.model_selection import train_test_split\n",
        "x_train, x_test, y_train, y_test = train_test_split(desc, label, test_size=0.2)"
      ],
      "execution_count": 13,
      "outputs": []
    },
    {
      "cell_type": "code",
      "metadata": {
        "id": "khuyyrQJGUGi"
      },
      "source": [
        "from tensorflow.keras.preprocessing.text import Tokenizer\n",
        "from tensorflow.keras.preprocessing.sequence import pad_sequences\n",
        "\n",
        "tokenizer = Tokenizer(num_words=5000, oov_token='<OOV>')\n",
        "tokenizer.fit_on_texts(x_train) \n",
        "\n",
        "\n",
        "x_train = tokenizer.texts_to_sequences(x_train)\n",
        "x_test = tokenizer.texts_to_sequences(x_test)\n",
        "\n",
        "x_train = pad_sequences(x_train) \n",
        "x_test = pad_sequences(x_test)"
      ],
      "execution_count": 14,
      "outputs": []
    },
    {
      "cell_type": "code",
      "metadata": {
        "id": "wuJcXL1oGY7N"
      },
      "source": [
        "import tensorflow as tf\n",
        "model = tf.keras.Sequential([\n",
        "    tf.keras.layers.Embedding(input_dim=5000, output_dim=16),\n",
        "    tf.keras.layers.LSTM(64),\n",
        "    tf.keras.layers.Dense(256, activation='relu'),\n",
        "    tf.keras.layers.Dropout(0.5),\n",
        "    tf.keras.layers.Dense(128, activation='relu'),\n",
        "    tf.keras.layers.Dropout(0.5),\n",
        "    tf.keras.layers.Dense(64, activation='relu'),\n",
        "    tf.keras.layers.Dropout(0.5),\n",
        "    tf.keras.layers.Dense(4, activation='softmax')\n",
        "])\n",
        "model.compile(loss='categorical_crossentropy',optimizer='adam',metrics=['accuracy'])"
      ],
      "execution_count": 15,
      "outputs": []
    },
    {
      "cell_type": "code",
      "metadata": {
        "id": "yRzL2tMzHYWB"
      },
      "source": [
        "class myCallback(tf.keras.callbacks.Callback):\n",
        "  def on_epoch_end(self, epoch, logs={}):\n",
        "    if(logs.get('accuracy') > 0.9 and logs.get('val_accuracy') > 0.9):\n",
        "      print(\"\\nAkurasi telah mencapai >90%!\")\n",
        "      self.model.stop_training = True\n",
        "callbacks = myCallback()"
      ],
      "execution_count": 16,
      "outputs": []
    },
    {
      "cell_type": "code",
      "metadata": {
        "id": "lupIgTdUoNEe",
        "outputId": "0d5ca91d-7f0f-4d98-d566-7b9c86c8852c",
        "colab": {
          "base_uri": "https://localhost:8080/",
          "height": 1000
        }
      },
      "source": [
        "import numpy as np\n",
        "num_epochs = 30\n",
        "x_train = np.array(x_train)\n",
        "\n",
        "hist = model.fit(x_train, y_train, epochs=num_epochs, \n",
        "                    validation_data=(x_test, y_test), callbacks=[callbacks], verbose=1)"
      ],
      "execution_count": 17,
      "outputs": [
        {
          "output_type": "stream",
          "text": [
            "Epoch 1/30\n",
            "190/190 [==============================] - 10s 55ms/step - loss: 1.2887 - accuracy: 0.3323 - val_loss: 0.9579 - val_accuracy: 0.4806\n",
            "Epoch 2/30\n",
            "190/190 [==============================] - 11s 55ms/step - loss: 0.8690 - accuracy: 0.5923 - val_loss: 0.7600 - val_accuracy: 0.6504\n",
            "Epoch 3/30\n",
            "190/190 [==============================] - 11s 57ms/step - loss: 0.6533 - accuracy: 0.7103 - val_loss: 0.6207 - val_accuracy: 0.7683\n",
            "Epoch 4/30\n",
            "190/190 [==============================] - 11s 57ms/step - loss: 0.4573 - accuracy: 0.8380 - val_loss: 0.6103 - val_accuracy: 0.7788\n",
            "Epoch 5/30\n",
            "190/190 [==============================] - 11s 57ms/step - loss: 0.3012 - accuracy: 0.9045 - val_loss: 0.6683 - val_accuracy: 0.7808\n",
            "Epoch 6/30\n",
            "190/190 [==============================] - 11s 57ms/step - loss: 0.2242 - accuracy: 0.9327 - val_loss: 0.7629 - val_accuracy: 0.7702\n",
            "Epoch 7/30\n",
            "190/190 [==============================] - 12s 62ms/step - loss: 0.1962 - accuracy: 0.9440 - val_loss: 1.0591 - val_accuracy: 0.7518\n",
            "Epoch 8/30\n",
            "190/190 [==============================] - 12s 62ms/step - loss: 0.1583 - accuracy: 0.9541 - val_loss: 0.9823 - val_accuracy: 0.7788\n",
            "Epoch 9/30\n",
            "190/190 [==============================] - 12s 62ms/step - loss: 0.1021 - accuracy: 0.9737 - val_loss: 1.0411 - val_accuracy: 0.7768\n",
            "Epoch 10/30\n",
            "190/190 [==============================] - 12s 62ms/step - loss: 0.0828 - accuracy: 0.9779 - val_loss: 1.2350 - val_accuracy: 0.7584\n",
            "Epoch 11/30\n",
            "190/190 [==============================] - 12s 62ms/step - loss: 0.0846 - accuracy: 0.9773 - val_loss: 1.3760 - val_accuracy: 0.7650\n",
            "Epoch 12/30\n",
            "190/190 [==============================] - 12s 63ms/step - loss: 0.0438 - accuracy: 0.9896 - val_loss: 1.5213 - val_accuracy: 0.7702\n",
            "Epoch 13/30\n",
            "190/190 [==============================] - 12s 63ms/step - loss: 0.0456 - accuracy: 0.9900 - val_loss: 1.6831 - val_accuracy: 0.7788\n",
            "Epoch 14/30\n",
            "190/190 [==============================] - 12s 63ms/step - loss: 0.0313 - accuracy: 0.9901 - val_loss: 1.7874 - val_accuracy: 0.7656\n",
            "Epoch 15/30\n",
            "190/190 [==============================] - 12s 62ms/step - loss: 0.0407 - accuracy: 0.9886 - val_loss: 1.7192 - val_accuracy: 0.7735\n",
            "Epoch 16/30\n",
            "190/190 [==============================] - 12s 62ms/step - loss: 0.0258 - accuracy: 0.9926 - val_loss: 1.7988 - val_accuracy: 0.7689\n",
            "Epoch 17/30\n",
            "190/190 [==============================] - 12s 62ms/step - loss: 0.0590 - accuracy: 0.9862 - val_loss: 1.5788 - val_accuracy: 0.7795\n",
            "Epoch 18/30\n",
            "190/190 [==============================] - 12s 62ms/step - loss: 0.0236 - accuracy: 0.9936 - val_loss: 2.0402 - val_accuracy: 0.7617\n",
            "Epoch 19/30\n",
            "190/190 [==============================] - 12s 62ms/step - loss: 0.0154 - accuracy: 0.9962 - val_loss: 1.8820 - val_accuracy: 0.7735\n",
            "Epoch 20/30\n",
            "190/190 [==============================] - 12s 63ms/step - loss: 0.0335 - accuracy: 0.9924 - val_loss: 1.6446 - val_accuracy: 0.7558\n",
            "Epoch 21/30\n",
            "190/190 [==============================] - 12s 63ms/step - loss: 0.0371 - accuracy: 0.9926 - val_loss: 1.7979 - val_accuracy: 0.7650\n",
            "Epoch 22/30\n",
            "190/190 [==============================] - 12s 63ms/step - loss: 0.0199 - accuracy: 0.9954 - val_loss: 1.8835 - val_accuracy: 0.7735\n",
            "Epoch 23/30\n",
            "190/190 [==============================] - 12s 63ms/step - loss: 0.0229 - accuracy: 0.9934 - val_loss: 2.0538 - val_accuracy: 0.7847\n",
            "Epoch 24/30\n",
            "190/190 [==============================] - 12s 62ms/step - loss: 0.0063 - accuracy: 0.9987 - val_loss: 2.3264 - val_accuracy: 0.7808\n",
            "Epoch 25/30\n",
            "190/190 [==============================] - 12s 62ms/step - loss: 0.0149 - accuracy: 0.9965 - val_loss: 2.0315 - val_accuracy: 0.7716\n",
            "Epoch 26/30\n",
            "190/190 [==============================] - 11s 60ms/step - loss: 0.0328 - accuracy: 0.9909 - val_loss: 2.1602 - val_accuracy: 0.7781\n",
            "Epoch 27/30\n",
            "190/190 [==============================] - 11s 57ms/step - loss: 0.0120 - accuracy: 0.9965 - val_loss: 2.1517 - val_accuracy: 0.7821\n",
            "Epoch 28/30\n",
            "190/190 [==============================] - 11s 57ms/step - loss: 0.0025 - accuracy: 0.9998 - val_loss: 2.5989 - val_accuracy: 0.7874\n",
            "Epoch 29/30\n",
            "190/190 [==============================] - 11s 57ms/step - loss: 7.6714e-04 - accuracy: 1.0000 - val_loss: 2.8577 - val_accuracy: 0.7867\n",
            "Epoch 30/30\n",
            "190/190 [==============================] - 11s 57ms/step - loss: 4.2662e-04 - accuracy: 1.0000 - val_loss: 3.0922 - val_accuracy: 0.7867\n"
          ],
          "name": "stdout"
        }
      ]
    },
    {
      "cell_type": "code",
      "metadata": {
        "id": "Xqc5v2CKXx-V"
      },
      "source": [
        ""
      ],
      "execution_count": 17,
      "outputs": []
    }
  ]
}